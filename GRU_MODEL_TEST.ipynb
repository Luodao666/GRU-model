{
 "cells": [
  {
   "cell_type": "markdown",
   "id": "0905bd63",
   "metadata": {},
   "source": [
    "# GRU(Gate Recurrent Unit) Network on Predicting Stock Price"
   ]
  },
  {
   "cell_type": "code",
   "execution_count": 1,
   "id": "64b9cd42",
   "metadata": {
    "tags": []
   },
   "outputs": [],
   "source": [
    "import torch\n",
    "from torch import nn, optim\n",
    "import pandas as pd\n",
    "from sklearn.preprocessing import MinMaxScaler\n",
    "import numpy as np\n",
    "from ta import momentum\n",
    "\n",
    "# Set device: GPU or CPU\n",
    "device = torch.device('cuda' if torch.cuda.is_available() else 'cpu')"
   ]
  },
  {
   "cell_type": "markdown",
   "id": "0d5f7c8d",
   "metadata": {},
   "source": [
    "# Load the test dataset"
   ]
  },
  {
   "cell_type": "code",
   "execution_count": 3,
   "id": "86e5897c",
   "metadata": {
    "tags": []
   },
   "outputs": [],
   "source": [
    "# Load test data\n",
    "data_test = pd.read_csv('./dataset/val.csv')\n",
    "data_test = data_test.dropna()\n",
    "data_test['Date'] = pd.to_datetime(data_test['Date'])\n",
    "data_test['Close'] = data_test['Close'].astype(float)"
   ]
  },
  {
   "cell_type": "code",
   "execution_count": 4,
   "id": "85075d6c",
   "metadata": {
    "tags": []
   },
   "outputs": [
    {
     "data": {
      "text/html": [
       "<div>\n",
       "<style scoped>\n",
       "    .dataframe tbody tr th:only-of-type {\n",
       "        vertical-align: middle;\n",
       "    }\n",
       "\n",
       "    .dataframe tbody tr th {\n",
       "        vertical-align: top;\n",
       "    }\n",
       "\n",
       "    .dataframe thead th {\n",
       "        text-align: right;\n",
       "    }\n",
       "</style>\n",
       "<table border=\"1\" class=\"dataframe\">\n",
       "  <thead>\n",
       "    <tr style=\"text-align: right;\">\n",
       "      <th></th>\n",
       "      <th>Date</th>\n",
       "      <th>Open</th>\n",
       "      <th>High</th>\n",
       "      <th>Low</th>\n",
       "      <th>Close</th>\n",
       "      <th>Adj Close</th>\n",
       "      <th>Volume</th>\n",
       "    </tr>\n",
       "  </thead>\n",
       "  <tbody>\n",
       "    <tr>\n",
       "      <th>0</th>\n",
       "      <td>2016-08-08</td>\n",
       "      <td>2183.760010</td>\n",
       "      <td>2185.439941</td>\n",
       "      <td>2177.850098</td>\n",
       "      <td>2180.889893</td>\n",
       "      <td>2180.889893</td>\n",
       "      <td>3327550000</td>\n",
       "    </tr>\n",
       "    <tr>\n",
       "      <th>1</th>\n",
       "      <td>2016-08-09</td>\n",
       "      <td>2182.239990</td>\n",
       "      <td>2187.659912</td>\n",
       "      <td>2178.610107</td>\n",
       "      <td>2181.739990</td>\n",
       "      <td>2181.739990</td>\n",
       "      <td>3334300000</td>\n",
       "    </tr>\n",
       "    <tr>\n",
       "      <th>2</th>\n",
       "      <td>2016-08-10</td>\n",
       "      <td>2182.810059</td>\n",
       "      <td>2183.409912</td>\n",
       "      <td>2172.000000</td>\n",
       "      <td>2175.489990</td>\n",
       "      <td>2175.489990</td>\n",
       "      <td>3254950000</td>\n",
       "    </tr>\n",
       "    <tr>\n",
       "      <th>3</th>\n",
       "      <td>2016-08-11</td>\n",
       "      <td>2177.969971</td>\n",
       "      <td>2188.449951</td>\n",
       "      <td>2177.969971</td>\n",
       "      <td>2185.790039</td>\n",
       "      <td>2185.790039</td>\n",
       "      <td>3423160000</td>\n",
       "    </tr>\n",
       "    <tr>\n",
       "      <th>4</th>\n",
       "      <td>2016-08-12</td>\n",
       "      <td>2183.739990</td>\n",
       "      <td>2186.280029</td>\n",
       "      <td>2179.419922</td>\n",
       "      <td>2184.050049</td>\n",
       "      <td>2184.050049</td>\n",
       "      <td>3000660000</td>\n",
       "    </tr>\n",
       "  </tbody>\n",
       "</table>\n",
       "</div>"
      ],
      "text/plain": [
       "        Date         Open         High          Low        Close    Adj Close  \\\n",
       "0 2016-08-08  2183.760010  2185.439941  2177.850098  2180.889893  2180.889893   \n",
       "1 2016-08-09  2182.239990  2187.659912  2178.610107  2181.739990  2181.739990   \n",
       "2 2016-08-10  2182.810059  2183.409912  2172.000000  2175.489990  2175.489990   \n",
       "3 2016-08-11  2177.969971  2188.449951  2177.969971  2185.790039  2185.790039   \n",
       "4 2016-08-12  2183.739990  2186.280029  2179.419922  2184.050049  2184.050049   \n",
       "\n",
       "       Volume  \n",
       "0  3327550000  \n",
       "1  3334300000  \n",
       "2  3254950000  \n",
       "3  3423160000  \n",
       "4  3000660000  "
      ]
     },
     "execution_count": 4,
     "metadata": {},
     "output_type": "execute_result"
    }
   ],
   "source": [
    "data_test.head()"
   ]
  },
  {
   "cell_type": "code",
   "execution_count": 5,
   "id": "e56b7c24",
   "metadata": {
    "tags": []
   },
   "outputs": [
    {
     "name": "stdout",
     "output_type": "stream",
     "text": [
      "<class 'pandas.core.frame.DataFrame'>\n",
      "RangeIndex: 806 entries, 0 to 805\n",
      "Data columns (total 7 columns):\n",
      " #   Column     Non-Null Count  Dtype         \n",
      "---  ------     --------------  -----         \n",
      " 0   Date       806 non-null    datetime64[ns]\n",
      " 1   Open       806 non-null    float64       \n",
      " 2   High       806 non-null    float64       \n",
      " 3   Low        806 non-null    float64       \n",
      " 4   Close      806 non-null    float64       \n",
      " 5   Adj Close  806 non-null    float64       \n",
      " 6   Volume     806 non-null    int64         \n",
      "dtypes: datetime64[ns](1), float64(5), int64(1)\n",
      "memory usage: 44.2 KB\n"
     ]
    },
    {
     "data": {
      "text/plain": [
       "<Axes: >"
      ]
     },
     "execution_count": 5,
     "metadata": {},
     "output_type": "execute_result"
    },
    {
     "data": {
      "image/png": "[encoded data removed]",
      "text/plain": [
       "<Figure size 600x400 with 1 Axes>"
      ]
     },
     "metadata": {},
     "output_type": "display_data"
    }
   ],
   "source": [
    "data_test.info()\n",
    "import matplotlib.pyplot as plt\n",
    "plt.figure(figsize=(6, 4))\n",
    "data_test.boxplot(column=['Close'])"
   ]
  },
  {
   "cell_type": "code",
   "execution_count": 6,
   "id": "2ff7d680",
   "metadata": {
    "tags": []
   },
   "outputs": [
    {
     "data": {
      "text/plain": [
       "(806, 7)"
      ]
     },
     "execution_count": 6,
     "metadata": {},
     "output_type": "execute_result"
    }
   ],
   "source": [
    "data_test.shape"
   ]
  },
  {
   "cell_type": "markdown",
   "id": "48acb04c",
   "metadata": {},
   "source": [
    "# Prepare the input sequence for GRU model"
   ]
  },
  {
   "cell_type": "code",
   "execution_count": 7,
   "id": "5ec13a28",
   "metadata": {
    "tags": []
   },
   "outputs": [],
   "source": [
    "#test set\n",
    "# Add technical indicators as features\n",
    "data_test['SMA_5'] = data_test['Close'].rolling(window=5).mean()\n",
    "data_test['SMA_10'] = data_test['Close'].rolling(window=10).mean()\n",
    "data_test['RSI'] = momentum.rsi(data_test['Close'], window=14)\n",
    "# Delete rows corresponding to missing values\n",
    "data_test = data_test.dropna()"
   ]
  },
  {
   "cell_type": "markdown",
   "id": "7323cec5",
   "metadata": {},
   "source": [
    "## MinMaxScaler"
   ]
  },
  {
   "cell_type": "code",
   "execution_count": 8,
   "id": "c92563c5",
   "metadata": {
    "tags": []
   },
   "outputs": [],
   "source": [
    "#test set\n",
    "scaler = MinMaxScaler()\n",
    "data_test[['Close', 'SMA_5', 'SMA_10', 'RSI']] = scaler.fit_transform(data_test[['Close', 'SMA_5', 'SMA_10', 'RSI']])\n",
    "\n",
    "X_test = data_test[['Close', 'SMA_5', 'SMA_10', 'RSI']].values[:-1]\n",
    "y_test = data_test['Close'].values[1:]\n",
    "\n",
    "X_test = torch.from_numpy(X_test).type(torch.Tensor)\n",
    "y_test = torch.from_numpy(y_test).type(torch.Tensor)\n",
    "\n",
    "X_test = X_test.view(-1, 1, 4).to(device)\n",
    "y_test = y_test.view(-1, 1).to(device)\n"
   ]
  },
  {
   "cell_type": "markdown",
   "id": "2c100a8f",
   "metadata": {},
   "source": [
    "# Load pre-trained model"
   ]
  },
  {
   "cell_type": "code",
   "execution_count": 9,
   "id": "214518b0",
   "metadata": {
    "tags": []
   },
   "outputs": [],
   "source": [
    "# Define GRU model\n",
    "class GRU(nn.Module):\n",
    "    def __init__(self, input_dim, hidden_dim, output_dim, num_layers):\n",
    "        super(GRU, self).__init__()\n",
    "        self.hidden_dim = hidden_dim\n",
    "        self.num_layers = num_layers\n",
    "        self.gru = nn.GRU(input_dim, hidden_dim, num_layers, batch_first=True)\n",
    "        self.fc = nn.Linear(hidden_dim, output_dim)\n",
    "\n",
    "    def forward(self, x):\n",
    "        h0 = torch.zeros(self.num_layers, x.size(0), self.hidden_dim).requires_grad_().to(device)\n",
    "        out, _ = self.gru(x, h0.detach())\n",
    "        out = self.fc(out[:, -1, :])\n",
    "        out = out.view(-1, 1)  # resize into (batch_size, 1, 1)\n",
    "        return out"
   ]
  },
  {
   "cell_type": "code",
   "execution_count": 14,
   "id": "75cb0c6e-7364-4bc2-b0fc-08371720b30f",
   "metadata": {
    "tags": []
   },
   "outputs": [],
   "source": [
    "input_dim = 4  # The input dimension is 4, which is the number of features\n",
    "hidden_dim = 32\n",
    "output_dim = 1\n",
    "num_layers = 2"
   ]
  },
  {
   "cell_type": "code",
   "execution_count": 15,
   "id": "6cd5107e",
   "metadata": {
    "tags": []
   },
   "outputs": [
    {
     "data": {
      "text/plain": [
       "GRU(\n",
       "  (gru): GRU(4, 32, num_layers=2, batch_first=True)\n",
       "  (fc): Linear(in_features=32, out_features=1, bias=True)\n",
       ")"
      ]
     },
     "execution_count": 15,
     "metadata": {},
     "output_type": "execute_result"
    }
   ],
   "source": [
    "model = GRU(input_dim, hidden_dim, output_dim, num_layers).to(device)\n",
    "model.load_state_dict(torch.load('gru_model.pth'))\n",
    "model"
   ]
  },
  {
   "cell_type": "markdown",
   "id": "a2871352-066c-429a-b550-e64f3e584adc",
   "metadata": {},
   "source": [
    "## Evaluate on the test set"
   ]
  },
  {
   "cell_type": "code",
   "execution_count": 18,
   "id": "bf8cef30-d304-446f-9ac8-02a8dee192d2",
   "metadata": {
    "tags": []
   },
   "outputs": [],
   "source": [
    "########Evaluate model\n",
    "model.eval()  # Switch to evaluation mode\n",
    "with torch.no_grad():\n",
    "    predicted = model(X_test)\n",
    "    predicted = scaler.inverse_transform(np.repeat(predicted.cpu().numpy(), 4, axis=1))  # Denormalize and reshape\n",
    "    actual = scaler.inverse_transform(np.repeat(y_test.cpu().numpy(), 4, axis=1)) # Denormalize and reshape"
   ]
  },
  {
   "cell_type": "markdown",
   "id": "29ca66af-4c18-49a4-83b5-805d1e0ff20e",
   "metadata": {},
   "source": [
    "## Backtest"
   ]
  },
  {
   "cell_type": "code",
   "execution_count": 19,
   "id": "8e503a69-38e5-4250-9cda-0b73c28a55de",
   "metadata": {
    "tags": []
   },
   "outputs": [],
   "source": [
    "def backtest(predictions, original_prices, threshold=0.015, initial_cash=500000):\n",
    "    \"\"\"\n",
    "    Backtest function to simulate trading based on the model's predictions.\n",
    "\n",
    "    :param predictions: The predicted prices from the model.\n",
    "    :param original_prices: The actual prices of the stock.\n",
    "    :param threshold: The threshold for making a trade decision.\n",
    "    :param initial_cash: The initial cash in the portfolio.\n",
    "    :return: The final portfolio value and the total return.\n",
    "    \"\"\"\n",
    "    cash = initial_cash\n",
    "    shares = 0\n",
    "    total_assets = initial_cash\n",
    "\n",
    "    for i in range(1, len(predictions)):\n",
    "        predicted_change = (predictions[i] - original_prices[i - 1]) / original_prices[i - 1]\n",
    "        actual_change = (original_prices[i] - original_prices[i - 1]) / original_prices[i - 1]\n",
    "\n",
    "        # Decision to buy\n",
    "        if predicted_change > threshold and cash >= original_prices[i]:\n",
    "            shares_bought = cash // original_prices[i]\n",
    "            shares += shares_bought\n",
    "            cash -= shares_bought * original_prices[i]\n",
    "\n",
    "        # Decision to sell\n",
    "        elif predicted_change < -threshold and shares > 0:\n",
    "            cash += shares * original_prices[i]\n",
    "            shares = 0\n",
    "\n",
    "        # Update total assets value\n",
    "        total_assets = cash + shares * original_prices[i]\n",
    "\n",
    "    total_return = total_assets - initial_cash\n",
    "    return total_assets, total_return"
   ]
  },
  {
   "cell_type": "code",
   "execution_count": 20,
   "id": "785cdcf7-cbd0-4709-b27a-69ed37ba3dc2",
   "metadata": {
    "tags": []
   },
   "outputs": [
    {
     "name": "stdout",
     "output_type": "stream",
     "text": [
      "Final Assets: 664834.4829101562 Total Return: 164834.48291015625 Return Rate: 32.966896582031254\n"
     ]
    }
   ],
   "source": [
    "initial_cash = 500000\n",
    "threshold = 0.015\n",
    "# Applying the backtest function to the LSTM model's predictions\n",
    "final_assets, total_return = backtest(predicted[:, 0],actual[:, 0], threshold=threshold, initial_cash=initial_cash)\n",
    "return_rate = (total_return/initial_cash)*100\n",
    "print(\"Final Assets:\", final_assets, \"Total Return:\", total_return, \"Return Rate:\",return_rate)"
   ]
  },
  {
   "cell_type": "code",
   "execution_count": null,
   "id": "e80f9cb5-f7c1-4063-9a48-aa1eee30a7c8",
   "metadata": {},
   "outputs": [],
   "source": []
  }
 ],
 "metadata": {
  "kernelspec": {
   "display_name": "Python 3 (ipykernel)",
   "language": "python",
   "name": "python3"
  },
  "language_info": {
   "codemirror_mode": {
    "name": "ipython",
    "version": 3
   },
   "file_extension": ".py",
   "mimetype": "text/x-python",
   "name": "python",
   "nbconvert_exporter": "python",
   "pygments_lexer": "ipython3",
   "version": "3.11.5"
  }
 },
 "nbformat": 4,
 "nbformat_minor": 5
}
